{
 "cells": [
  {
   "cell_type": "markdown",
   "id": "84e8fc72",
   "metadata": {},
   "source": [
    "intro: What makes a strong password and why should the IT/infrastructure leaders analyze yearly leaked password datasets\n",
    "- Question: What is the leaked password trend for 2020? \n",
    "    - average, max, min length of leaked string\n",
    "    - average, max, min time to crack in seconds\n",
    "    - correlation between length of string and time to crack?\n",
    "    - were there any passwords that meets strong req leaked (special char, upper, lower, num, len >12)?\n",
    "    - what is more important, length, or mix of characters\n",
    "    - Of the passwords on the data set, did it take longer to crack in the previous years or did the time to crack stay the same?\n",
    "- Future: Companies should continue to analyze the password trends yearly to see if password reqs should be updated\n",
    "    - Is there a change in average length of password by years? => if yes increase the min password length"
   ]
  },
  {
   "cell_type": "markdown",
   "id": "36c33dd9",
   "metadata": {},
   "source": [
    "<p><a name=\"sections\"></a></p>\n",
    "\n",
    "\n",
    "# Sections\n",
    "\n",
    "- <a href=\"#SettingUp\">Setting up + basic df info</a>\n",
    "    - <a href=\"#AddingPws\">Adding Password_Length Column</a>\n",
    "- <a href=\"#Compcountry\">Comparing by countries</a>\n",
    "    - <a href=\"#countryusrcount\">How many users in each country were found to have used passwords on the list</a>\n",
    "    - <a href=\"#countrylengthvsttcis\">What is the average password length by country?</a>\n",
    "    - <a href=\"#countryavgttcis\">What is the average time to crack the password by country?</a>\n",
    "    - <a href=\"#countrysharetoppass\">Do different countries share same top used passwords (Top 3)</a>\n",
    "- <a href=\"#uniqpwd\">Analysis of unique passwords</a>\n",
    "    - <a href=\"#uniqdissect\">Dissecting unique passwords by character type</a>\n",
    "- <a href=\"#pwdcomplex\">Analysis by Password Complexity</a>\n",
    "    - <a href=\"#strongpwdele\">Comparing the elements that make a strong password using boxplot</a>\n",
    "    - <a href=\"#onecomplextype\">Of the unique passwords, what percentage has only one complexity type</a>\n",
    "    - <a href=\"#TTCISbyyear\">Of the unique passwords in the list, has the crack time changed from the past years? [do passwords get easier to crack over time?]</a>"
   ]
  },
  {
   "cell_type": "markdown",
   "id": "5b382f58",
   "metadata": {},
   "source": [
    "<p><a name=\"SettingUp\"></a></p>\n",
    "\n",
    "# ------- Setting up + basic df info -------"
   ]
  },
  {
   "cell_type": "code",
   "execution_count": 1,
   "id": "a25b06ad",
   "metadata": {},
   "outputs": [],
   "source": [
    "import pandas as pd\n",
    "import numpy as np\n",
    "import seaborn as sns\n",
    "import matplotlib.pyplot as plt \n",
    "from matplotlib.axis import Axis\n",
    "import math\n",
    "plt.style.use('ggplot')"
   ]
  },
  {
   "cell_type": "code",
   "execution_count": 2,
   "id": "63cc5833",
   "metadata": {
    "scrolled": true
   },
   "outputs": [
    {
     "data": {
      "text/html": [
       "<div>\n",
       "<style scoped>\n",
       "    .dataframe tbody tr th:only-of-type {\n",
       "        vertical-align: middle;\n",
       "    }\n",
       "\n",
       "    .dataframe tbody tr th {\n",
       "        vertical-align: top;\n",
       "    }\n",
       "\n",
       "    .dataframe thead th {\n",
       "        text-align: right;\n",
       "    }\n",
       "</style>\n",
       "<table border=\"1\" class=\"dataframe\">\n",
       "  <thead>\n",
       "    <tr style=\"text-align: right;\">\n",
       "      <th></th>\n",
       "      <th>Unnamed: 0</th>\n",
       "      <th>country_code</th>\n",
       "      <th>country</th>\n",
       "      <th>Rank</th>\n",
       "      <th>Password</th>\n",
       "      <th>User_count</th>\n",
       "      <th>Global_rank</th>\n",
       "      <th>time</th>\n",
       "      <th>Time_to_crack_in_seconds</th>\n",
       "    </tr>\n",
       "  </thead>\n",
       "  <tbody>\n",
       "    <tr>\n",
       "      <th>0</th>\n",
       "      <td>0</td>\n",
       "      <td>au</td>\n",
       "      <td>Australia</td>\n",
       "      <td>1</td>\n",
       "      <td>123456</td>\n",
       "      <td>308483</td>\n",
       "      <td>1.0</td>\n",
       "      <td>0.19 MILLISECONDS</td>\n",
       "      <td>0.0</td>\n",
       "    </tr>\n",
       "    <tr>\n",
       "      <th>1</th>\n",
       "      <td>1</td>\n",
       "      <td>at</td>\n",
       "      <td>Austria</td>\n",
       "      <td>1</td>\n",
       "      <td>123456</td>\n",
       "      <td>100939</td>\n",
       "      <td>1.0</td>\n",
       "      <td>0.19 MILLISECONDS</td>\n",
       "      <td>0.0</td>\n",
       "    </tr>\n",
       "    <tr>\n",
       "      <th>2</th>\n",
       "      <td>2</td>\n",
       "      <td>be</td>\n",
       "      <td>Belgium</td>\n",
       "      <td>1</td>\n",
       "      <td>123456</td>\n",
       "      <td>78777</td>\n",
       "      <td>1.0</td>\n",
       "      <td>0.19 MILLISECONDS</td>\n",
       "      <td>0.0</td>\n",
       "    </tr>\n",
       "    <tr>\n",
       "      <th>3</th>\n",
       "      <td>3</td>\n",
       "      <td>br</td>\n",
       "      <td>Brazil</td>\n",
       "      <td>1</td>\n",
       "      <td>123456</td>\n",
       "      <td>1003925</td>\n",
       "      <td>1.0</td>\n",
       "      <td>0.19 MILLISECONDS</td>\n",
       "      <td>0.0</td>\n",
       "    </tr>\n",
       "    <tr>\n",
       "      <th>4</th>\n",
       "      <td>4</td>\n",
       "      <td>ca</td>\n",
       "      <td>Canada</td>\n",
       "      <td>1</td>\n",
       "      <td>123456</td>\n",
       "      <td>570178</td>\n",
       "      <td>1.0</td>\n",
       "      <td>0.19 MILLISECONDS</td>\n",
       "      <td>0.0</td>\n",
       "    </tr>\n",
       "    <tr>\n",
       "      <th>...</th>\n",
       "      <td>...</td>\n",
       "      <td>...</td>\n",
       "      <td>...</td>\n",
       "      <td>...</td>\n",
       "      <td>...</td>\n",
       "      <td>...</td>\n",
       "      <td>...</td>\n",
       "      <td>...</td>\n",
       "      <td>...</td>\n",
       "    </tr>\n",
       "    <tr>\n",
       "      <th>9795</th>\n",
       "      <td>9795</td>\n",
       "      <td>vn</td>\n",
       "      <td>Vietnam</td>\n",
       "      <td>196</td>\n",
       "      <td>hongngoc</td>\n",
       "      <td>2660</td>\n",
       "      <td>NaN</td>\n",
       "      <td>3 HOURS 24 MINUTES 13 SECONDS 31 JIFFIES 4 MIL...</td>\n",
       "      <td>12253.0</td>\n",
       "    </tr>\n",
       "    <tr>\n",
       "      <th>9796</th>\n",
       "      <td>9796</td>\n",
       "      <td>vn</td>\n",
       "      <td>Vietnam</td>\n",
       "      <td>197</td>\n",
       "      <td>anhtien</td>\n",
       "      <td>2628</td>\n",
       "      <td>NaN</td>\n",
       "      <td>7 MINUTES 51 SECONDS 28 JIFFIES 1.29 MILLISECONDS</td>\n",
       "      <td>471.0</td>\n",
       "    </tr>\n",
       "    <tr>\n",
       "      <th>9797</th>\n",
       "      <td>9797</td>\n",
       "      <td>vn</td>\n",
       "      <td>Vietnam</td>\n",
       "      <td>198</td>\n",
       "      <td>lanhuong</td>\n",
       "      <td>2620</td>\n",
       "      <td>NaN</td>\n",
       "      <td>3 HOURS 24 MINUTES 13 SECONDS 31 JIFFIES 4 MIL...</td>\n",
       "      <td>12253.0</td>\n",
       "    </tr>\n",
       "    <tr>\n",
       "      <th>9798</th>\n",
       "      <td>9798</td>\n",
       "      <td>vn</td>\n",
       "      <td>Vietnam</td>\n",
       "      <td>199</td>\n",
       "      <td>congacon</td>\n",
       "      <td>2584</td>\n",
       "      <td>NaN</td>\n",
       "      <td>3 HOURS 24 MINUTES 13 SECONDS 31 JIFFIES 4 MIL...</td>\n",
       "      <td>12253.0</td>\n",
       "    </tr>\n",
       "    <tr>\n",
       "      <th>9799</th>\n",
       "      <td>9799</td>\n",
       "      <td>vn</td>\n",
       "      <td>Vietnam</td>\n",
       "      <td>200</td>\n",
       "      <td>conmemay</td>\n",
       "      <td>2532</td>\n",
       "      <td>NaN</td>\n",
       "      <td>3 HOURS 24 MINUTES 13 SECONDS 31 JIFFIES 4 MIL...</td>\n",
       "      <td>12253.0</td>\n",
       "    </tr>\n",
       "  </tbody>\n",
       "</table>\n",
       "<p>9800 rows × 9 columns</p>\n",
       "</div>"
      ],
      "text/plain": [
       "      Unnamed: 0 country_code    country  Rank  Password  User_count  \\\n",
       "0              0           au  Australia     1    123456      308483   \n",
       "1              1           at    Austria     1    123456      100939   \n",
       "2              2           be    Belgium     1    123456       78777   \n",
       "3              3           br     Brazil     1    123456     1003925   \n",
       "4              4           ca     Canada     1    123456      570178   \n",
       "...          ...          ...        ...   ...       ...         ...   \n",
       "9795        9795           vn    Vietnam   196  hongngoc        2660   \n",
       "9796        9796           vn    Vietnam   197   anhtien        2628   \n",
       "9797        9797           vn    Vietnam   198  lanhuong        2620   \n",
       "9798        9798           vn    Vietnam   199  congacon        2584   \n",
       "9799        9799           vn    Vietnam   200  conmemay        2532   \n",
       "\n",
       "      Global_rank                                               time  \\\n",
       "0             1.0                                  0.19 MILLISECONDS   \n",
       "1             1.0                                  0.19 MILLISECONDS   \n",
       "2             1.0                                  0.19 MILLISECONDS   \n",
       "3             1.0                                  0.19 MILLISECONDS   \n",
       "4             1.0                                  0.19 MILLISECONDS   \n",
       "...           ...                                                ...   \n",
       "9795          NaN  3 HOURS 24 MINUTES 13 SECONDS 31 JIFFIES 4 MIL...   \n",
       "9796          NaN  7 MINUTES 51 SECONDS 28 JIFFIES 1.29 MILLISECONDS   \n",
       "9797          NaN  3 HOURS 24 MINUTES 13 SECONDS 31 JIFFIES 4 MIL...   \n",
       "9798          NaN  3 HOURS 24 MINUTES 13 SECONDS 31 JIFFIES 4 MIL...   \n",
       "9799          NaN  3 HOURS 24 MINUTES 13 SECONDS 31 JIFFIES 4 MIL...   \n",
       "\n",
       "      Time_to_crack_in_seconds  \n",
       "0                          0.0  \n",
       "1                          0.0  \n",
       "2                          0.0  \n",
       "3                          0.0  \n",
       "4                          0.0  \n",
       "...                        ...  \n",
       "9795                   12253.0  \n",
       "9796                     471.0  \n",
       "9797                   12253.0  \n",
       "9798                   12253.0  \n",
       "9799                   12253.0  \n",
       "\n",
       "[9800 rows x 9 columns]"
      ]
     },
     "execution_count": 2,
     "metadata": {},
     "output_type": "execute_result"
    }
   ],
   "source": [
    "pw = pd.read_csv('pw_updated.csv')\n",
    "pw"
   ]
  },
  {
   "cell_type": "code",
   "execution_count": 3,
   "id": "ba4b5885",
   "metadata": {
    "scrolled": true
   },
   "outputs": [],
   "source": [
    "# removing the Unnamed: 0 column\n",
    "pw = pw.drop(columns=[\"Unnamed: 0\"])"
   ]
  },
  {
   "cell_type": "code",
   "execution_count": 4,
   "id": "bd58c26b",
   "metadata": {},
   "outputs": [
    {
     "data": {
      "text/html": [
       "<div>\n",
       "<style scoped>\n",
       "    .dataframe tbody tr th:only-of-type {\n",
       "        vertical-align: middle;\n",
       "    }\n",
       "\n",
       "    .dataframe tbody tr th {\n",
       "        vertical-align: top;\n",
       "    }\n",
       "\n",
       "    .dataframe thead th {\n",
       "        text-align: right;\n",
       "    }\n",
       "</style>\n",
       "<table border=\"1\" class=\"dataframe\">\n",
       "  <thead>\n",
       "    <tr style=\"text-align: right;\">\n",
       "      <th></th>\n",
       "      <th>country_code</th>\n",
       "      <th>country</th>\n",
       "      <th>Rank</th>\n",
       "      <th>Password</th>\n",
       "      <th>User_count</th>\n",
       "      <th>Global_rank</th>\n",
       "      <th>time</th>\n",
       "      <th>Time_to_crack_in_seconds</th>\n",
       "    </tr>\n",
       "  </thead>\n",
       "  <tbody>\n",
       "    <tr>\n",
       "      <th>0</th>\n",
       "      <td>au</td>\n",
       "      <td>Australia</td>\n",
       "      <td>1</td>\n",
       "      <td>123456</td>\n",
       "      <td>308483</td>\n",
       "      <td>1.0</td>\n",
       "      <td>0.19 MILLISECONDS</td>\n",
       "      <td>0.0</td>\n",
       "    </tr>\n",
       "    <tr>\n",
       "      <th>1</th>\n",
       "      <td>at</td>\n",
       "      <td>Austria</td>\n",
       "      <td>1</td>\n",
       "      <td>123456</td>\n",
       "      <td>100939</td>\n",
       "      <td>1.0</td>\n",
       "      <td>0.19 MILLISECONDS</td>\n",
       "      <td>0.0</td>\n",
       "    </tr>\n",
       "    <tr>\n",
       "      <th>2</th>\n",
       "      <td>be</td>\n",
       "      <td>Belgium</td>\n",
       "      <td>1</td>\n",
       "      <td>123456</td>\n",
       "      <td>78777</td>\n",
       "      <td>1.0</td>\n",
       "      <td>0.19 MILLISECONDS</td>\n",
       "      <td>0.0</td>\n",
       "    </tr>\n",
       "    <tr>\n",
       "      <th>3</th>\n",
       "      <td>br</td>\n",
       "      <td>Brazil</td>\n",
       "      <td>1</td>\n",
       "      <td>123456</td>\n",
       "      <td>1003925</td>\n",
       "      <td>1.0</td>\n",
       "      <td>0.19 MILLISECONDS</td>\n",
       "      <td>0.0</td>\n",
       "    </tr>\n",
       "    <tr>\n",
       "      <th>4</th>\n",
       "      <td>ca</td>\n",
       "      <td>Canada</td>\n",
       "      <td>1</td>\n",
       "      <td>123456</td>\n",
       "      <td>570178</td>\n",
       "      <td>1.0</td>\n",
       "      <td>0.19 MILLISECONDS</td>\n",
       "      <td>0.0</td>\n",
       "    </tr>\n",
       "    <tr>\n",
       "      <th>...</th>\n",
       "      <td>...</td>\n",
       "      <td>...</td>\n",
       "      <td>...</td>\n",
       "      <td>...</td>\n",
       "      <td>...</td>\n",
       "      <td>...</td>\n",
       "      <td>...</td>\n",
       "      <td>...</td>\n",
       "    </tr>\n",
       "    <tr>\n",
       "      <th>9795</th>\n",
       "      <td>vn</td>\n",
       "      <td>Vietnam</td>\n",
       "      <td>196</td>\n",
       "      <td>hongngoc</td>\n",
       "      <td>2660</td>\n",
       "      <td>NaN</td>\n",
       "      <td>3 HOURS 24 MINUTES 13 SECONDS 31 JIFFIES 4 MIL...</td>\n",
       "      <td>12253.0</td>\n",
       "    </tr>\n",
       "    <tr>\n",
       "      <th>9796</th>\n",
       "      <td>vn</td>\n",
       "      <td>Vietnam</td>\n",
       "      <td>197</td>\n",
       "      <td>anhtien</td>\n",
       "      <td>2628</td>\n",
       "      <td>NaN</td>\n",
       "      <td>7 MINUTES 51 SECONDS 28 JIFFIES 1.29 MILLISECONDS</td>\n",
       "      <td>471.0</td>\n",
       "    </tr>\n",
       "    <tr>\n",
       "      <th>9797</th>\n",
       "      <td>vn</td>\n",
       "      <td>Vietnam</td>\n",
       "      <td>198</td>\n",
       "      <td>lanhuong</td>\n",
       "      <td>2620</td>\n",
       "      <td>NaN</td>\n",
       "      <td>3 HOURS 24 MINUTES 13 SECONDS 31 JIFFIES 4 MIL...</td>\n",
       "      <td>12253.0</td>\n",
       "    </tr>\n",
       "    <tr>\n",
       "      <th>9798</th>\n",
       "      <td>vn</td>\n",
       "      <td>Vietnam</td>\n",
       "      <td>199</td>\n",
       "      <td>congacon</td>\n",
       "      <td>2584</td>\n",
       "      <td>NaN</td>\n",
       "      <td>3 HOURS 24 MINUTES 13 SECONDS 31 JIFFIES 4 MIL...</td>\n",
       "      <td>12253.0</td>\n",
       "    </tr>\n",
       "    <tr>\n",
       "      <th>9799</th>\n",
       "      <td>vn</td>\n",
       "      <td>Vietnam</td>\n",
       "      <td>200</td>\n",
       "      <td>conmemay</td>\n",
       "      <td>2532</td>\n",
       "      <td>NaN</td>\n",
       "      <td>3 HOURS 24 MINUTES 13 SECONDS 31 JIFFIES 4 MIL...</td>\n",
       "      <td>12253.0</td>\n",
       "    </tr>\n",
       "  </tbody>\n",
       "</table>\n",
       "<p>9800 rows × 8 columns</p>\n",
       "</div>"
      ],
      "text/plain": [
       "     country_code    country  Rank  Password  User_count  Global_rank  \\\n",
       "0              au  Australia     1    123456      308483          1.0   \n",
       "1              at    Austria     1    123456      100939          1.0   \n",
       "2              be    Belgium     1    123456       78777          1.0   \n",
       "3              br     Brazil     1    123456     1003925          1.0   \n",
       "4              ca     Canada     1    123456      570178          1.0   \n",
       "...           ...        ...   ...       ...         ...          ...   \n",
       "9795           vn    Vietnam   196  hongngoc        2660          NaN   \n",
       "9796           vn    Vietnam   197   anhtien        2628          NaN   \n",
       "9797           vn    Vietnam   198  lanhuong        2620          NaN   \n",
       "9798           vn    Vietnam   199  congacon        2584          NaN   \n",
       "9799           vn    Vietnam   200  conmemay        2532          NaN   \n",
       "\n",
       "                                                   time  \\\n",
       "0                                     0.19 MILLISECONDS   \n",
       "1                                     0.19 MILLISECONDS   \n",
       "2                                     0.19 MILLISECONDS   \n",
       "3                                     0.19 MILLISECONDS   \n",
       "4                                     0.19 MILLISECONDS   \n",
       "...                                                 ...   \n",
       "9795  3 HOURS 24 MINUTES 13 SECONDS 31 JIFFIES 4 MIL...   \n",
       "9796  7 MINUTES 51 SECONDS 28 JIFFIES 1.29 MILLISECONDS   \n",
       "9797  3 HOURS 24 MINUTES 13 SECONDS 31 JIFFIES 4 MIL...   \n",
       "9798  3 HOURS 24 MINUTES 13 SECONDS 31 JIFFIES 4 MIL...   \n",
       "9799  3 HOURS 24 MINUTES 13 SECONDS 31 JIFFIES 4 MIL...   \n",
       "\n",
       "      Time_to_crack_in_seconds  \n",
       "0                          0.0  \n",
       "1                          0.0  \n",
       "2                          0.0  \n",
       "3                          0.0  \n",
       "4                          0.0  \n",
       "...                        ...  \n",
       "9795                   12253.0  \n",
       "9796                     471.0  \n",
       "9797                   12253.0  \n",
       "9798                   12253.0  \n",
       "9799                   12253.0  \n",
       "\n",
       "[9800 rows x 8 columns]"
      ]
     },
     "execution_count": 4,
     "metadata": {},
     "output_type": "execute_result"
    }
   ],
   "source": [
    "pw"
   ]
  },
  {
   "cell_type": "code",
   "execution_count": 5,
   "id": "073a228f",
   "metadata": {
    "scrolled": false
   },
   "outputs": [
    {
     "data": {
      "text/plain": [
       "array(['Australia', 'Austria', 'Belgium', 'Brazil', 'Canada', 'Chile',\n",
       "       'China', 'Colombia', 'Czech Republic', 'Denmark', 'Estonia',\n",
       "       'Finland', 'France', 'Germany', 'Greece', 'Hungary', 'India',\n",
       "       'Indonesia', 'Ireland', 'Israel', 'Italy', 'Japan', 'Korea',\n",
       "       'Latvia', 'Lithuania', 'Malaysia', 'Mexico', 'Netherlands',\n",
       "       'New Zealand', 'Nigeria', 'Norway', 'Philippines', 'Poland',\n",
       "       'Portugal', 'Romania', 'Russia', 'Saudi Arabia', 'Slovak Republic',\n",
       "       'South Africa', 'Spain', 'Sweden', 'Switzerland', 'Thailand',\n",
       "       'Turkey', 'Ukraine', 'United Arab Emirates', 'United Kingdom',\n",
       "       'United States', 'Vietnam'], dtype=object)"
      ]
     },
     "execution_count": 5,
     "metadata": {},
     "output_type": "execute_result"
    }
   ],
   "source": [
    "# to see all the countries in the dataset\n",
    "pw.country.unique()"
   ]
  },
  {
   "cell_type": "markdown",
   "id": "b71f8307",
   "metadata": {},
   "source": [
    "***Adding Password_Length Column***"
   ]
  },
  {
   "cell_type": "code",
   "execution_count": 6,
   "id": "0397777c",
   "metadata": {},
   "outputs": [],
   "source": [
    "#create a new column for password length\n",
    "pw[\"Password_Length\"] = pw[\"Password\"].apply(len)"
   ]
  },
  {
   "cell_type": "code",
   "execution_count": 7,
   "id": "d0eceb64",
   "metadata": {
    "scrolled": false
   },
   "outputs": [
    {
     "data": {
      "text/html": [
       "<div>\n",
       "<style scoped>\n",
       "    .dataframe tbody tr th:only-of-type {\n",
       "        vertical-align: middle;\n",
       "    }\n",
       "\n",
       "    .dataframe tbody tr th {\n",
       "        vertical-align: top;\n",
       "    }\n",
       "\n",
       "    .dataframe thead th {\n",
       "        text-align: right;\n",
       "    }\n",
       "</style>\n",
       "<table border=\"1\" class=\"dataframe\">\n",
       "  <thead>\n",
       "    <tr style=\"text-align: right;\">\n",
       "      <th></th>\n",
       "      <th>country_code</th>\n",
       "      <th>country</th>\n",
       "      <th>Rank</th>\n",
       "      <th>Password</th>\n",
       "      <th>User_count</th>\n",
       "      <th>Global_rank</th>\n",
       "      <th>time</th>\n",
       "      <th>Time_to_crack_in_seconds</th>\n",
       "      <th>Password_Length</th>\n",
       "    </tr>\n",
       "  </thead>\n",
       "  <tbody>\n",
       "    <tr>\n",
       "      <th>0</th>\n",
       "      <td>au</td>\n",
       "      <td>Australia</td>\n",
       "      <td>1</td>\n",
       "      <td>123456</td>\n",
       "      <td>308483</td>\n",
       "      <td>1.0</td>\n",
       "      <td>0.19 MILLISECONDS</td>\n",
       "      <td>0.0</td>\n",
       "      <td>6</td>\n",
       "    </tr>\n",
       "    <tr>\n",
       "      <th>1</th>\n",
       "      <td>at</td>\n",
       "      <td>Austria</td>\n",
       "      <td>1</td>\n",
       "      <td>123456</td>\n",
       "      <td>100939</td>\n",
       "      <td>1.0</td>\n",
       "      <td>0.19 MILLISECONDS</td>\n",
       "      <td>0.0</td>\n",
       "      <td>6</td>\n",
       "    </tr>\n",
       "    <tr>\n",
       "      <th>2</th>\n",
       "      <td>be</td>\n",
       "      <td>Belgium</td>\n",
       "      <td>1</td>\n",
       "      <td>123456</td>\n",
       "      <td>78777</td>\n",
       "      <td>1.0</td>\n",
       "      <td>0.19 MILLISECONDS</td>\n",
       "      <td>0.0</td>\n",
       "      <td>6</td>\n",
       "    </tr>\n",
       "    <tr>\n",
       "      <th>3</th>\n",
       "      <td>br</td>\n",
       "      <td>Brazil</td>\n",
       "      <td>1</td>\n",
       "      <td>123456</td>\n",
       "      <td>1003925</td>\n",
       "      <td>1.0</td>\n",
       "      <td>0.19 MILLISECONDS</td>\n",
       "      <td>0.0</td>\n",
       "      <td>6</td>\n",
       "    </tr>\n",
       "    <tr>\n",
       "      <th>4</th>\n",
       "      <td>ca</td>\n",
       "      <td>Canada</td>\n",
       "      <td>1</td>\n",
       "      <td>123456</td>\n",
       "      <td>570178</td>\n",
       "      <td>1.0</td>\n",
       "      <td>0.19 MILLISECONDS</td>\n",
       "      <td>0.0</td>\n",
       "      <td>6</td>\n",
       "    </tr>\n",
       "    <tr>\n",
       "      <th>...</th>\n",
       "      <td>...</td>\n",
       "      <td>...</td>\n",
       "      <td>...</td>\n",
       "      <td>...</td>\n",
       "      <td>...</td>\n",
       "      <td>...</td>\n",
       "      <td>...</td>\n",
       "      <td>...</td>\n",
       "      <td>...</td>\n",
       "    </tr>\n",
       "    <tr>\n",
       "      <th>9795</th>\n",
       "      <td>vn</td>\n",
       "      <td>Vietnam</td>\n",
       "      <td>196</td>\n",
       "      <td>hongngoc</td>\n",
       "      <td>2660</td>\n",
       "      <td>NaN</td>\n",
       "      <td>3 HOURS 24 MINUTES 13 SECONDS 31 JIFFIES 4 MIL...</td>\n",
       "      <td>12253.0</td>\n",
       "      <td>8</td>\n",
       "    </tr>\n",
       "    <tr>\n",
       "      <th>9796</th>\n",
       "      <td>vn</td>\n",
       "      <td>Vietnam</td>\n",
       "      <td>197</td>\n",
       "      <td>anhtien</td>\n",
       "      <td>2628</td>\n",
       "      <td>NaN</td>\n",
       "      <td>7 MINUTES 51 SECONDS 28 JIFFIES 1.29 MILLISECONDS</td>\n",
       "      <td>471.0</td>\n",
       "      <td>7</td>\n",
       "    </tr>\n",
       "    <tr>\n",
       "      <th>9797</th>\n",
       "      <td>vn</td>\n",
       "      <td>Vietnam</td>\n",
       "      <td>198</td>\n",
       "      <td>lanhuong</td>\n",
       "      <td>2620</td>\n",
       "      <td>NaN</td>\n",
       "      <td>3 HOURS 24 MINUTES 13 SECONDS 31 JIFFIES 4 MIL...</td>\n",
       "      <td>12253.0</td>\n",
       "      <td>8</td>\n",
       "    </tr>\n",
       "    <tr>\n",
       "      <th>9798</th>\n",
       "      <td>vn</td>\n",
       "      <td>Vietnam</td>\n",
       "      <td>199</td>\n",
       "      <td>congacon</td>\n",
       "      <td>2584</td>\n",
       "      <td>NaN</td>\n",
       "      <td>3 HOURS 24 MINUTES 13 SECONDS 31 JIFFIES 4 MIL...</td>\n",
       "      <td>12253.0</td>\n",
       "      <td>8</td>\n",
       "    </tr>\n",
       "    <tr>\n",
       "      <th>9799</th>\n",
       "      <td>vn</td>\n",
       "      <td>Vietnam</td>\n",
       "      <td>200</td>\n",
       "      <td>conmemay</td>\n",
       "      <td>2532</td>\n",
       "      <td>NaN</td>\n",
       "      <td>3 HOURS 24 MINUTES 13 SECONDS 31 JIFFIES 4 MIL...</td>\n",
       "      <td>12253.0</td>\n",
       "      <td>8</td>\n",
       "    </tr>\n",
       "  </tbody>\n",
       "</table>\n",
       "<p>9800 rows × 9 columns</p>\n",
       "</div>"
      ],
      "text/plain": [
       "     country_code    country  Rank  Password  User_count  Global_rank  \\\n",
       "0              au  Australia     1    123456      308483          1.0   \n",
       "1              at    Austria     1    123456      100939          1.0   \n",
       "2              be    Belgium     1    123456       78777          1.0   \n",
       "3              br     Brazil     1    123456     1003925          1.0   \n",
       "4              ca     Canada     1    123456      570178          1.0   \n",
       "...           ...        ...   ...       ...         ...          ...   \n",
       "9795           vn    Vietnam   196  hongngoc        2660          NaN   \n",
       "9796           vn    Vietnam   197   anhtien        2628          NaN   \n",
       "9797           vn    Vietnam   198  lanhuong        2620          NaN   \n",
       "9798           vn    Vietnam   199  congacon        2584          NaN   \n",
       "9799           vn    Vietnam   200  conmemay        2532          NaN   \n",
       "\n",
       "                                                   time  \\\n",
       "0                                     0.19 MILLISECONDS   \n",
       "1                                     0.19 MILLISECONDS   \n",
       "2                                     0.19 MILLISECONDS   \n",
       "3                                     0.19 MILLISECONDS   \n",
       "4                                     0.19 MILLISECONDS   \n",
       "...                                                 ...   \n",
       "9795  3 HOURS 24 MINUTES 13 SECONDS 31 JIFFIES 4 MIL...   \n",
       "9796  7 MINUTES 51 SECONDS 28 JIFFIES 1.29 MILLISECONDS   \n",
       "9797  3 HOURS 24 MINUTES 13 SECONDS 31 JIFFIES 4 MIL...   \n",
       "9798  3 HOURS 24 MINUTES 13 SECONDS 31 JIFFIES 4 MIL...   \n",
       "9799  3 HOURS 24 MINUTES 13 SECONDS 31 JIFFIES 4 MIL...   \n",
       "\n",
       "      Time_to_crack_in_seconds  Password_Length  \n",
       "0                          0.0                6  \n",
       "1                          0.0                6  \n",
       "2                          0.0                6  \n",
       "3                          0.0                6  \n",
       "4                          0.0                6  \n",
       "...                        ...              ...  \n",
       "9795                   12253.0                8  \n",
       "9796                     471.0                7  \n",
       "9797                   12253.0                8  \n",
       "9798                   12253.0                8  \n",
       "9799                   12253.0                8  \n",
       "\n",
       "[9800 rows x 9 columns]"
      ]
     },
     "execution_count": 7,
     "metadata": {},
     "output_type": "execute_result"
    }
   ],
   "source": [
    "pw"
   ]
  },
  {
   "cell_type": "markdown",
   "id": "cea3ad05",
   "metadata": {},
   "source": [
    "**Creating \"Continent\" column**"
   ]
  },
  {
   "cell_type": "code",
   "execution_count": 8,
   "id": "33017107",
   "metadata": {},
   "outputs": [],
   "source": [
    "africa = ['Nigeria', 'South Africa']\n",
    "asia = ['China', 'India', 'Indonesia', 'Israel', 'Japan', 'Korea', 'Malaysia','Philippines', 'Saudi Arabia', 'Thailand', 'Turkey', 'United Arab Emirates', 'Vietnam']\n",
    "europe = ['Austria', 'Belgium','Czech Republic', 'Denmark', 'Estonia', 'Finland','France', 'Germany', 'Greece', 'Hungary', 'Ireland', 'Italy', 'Latvia', 'Lithuania', 'Netherlands', 'Norway', 'Poland', 'Portugal', 'Romania', 'Russia', 'Slovak Republic', 'Spain', 'Sweden', 'Switzerland', 'Ukraine', 'United Kingdom']\n",
    "nc_Amer = ['Canada', 'Mexico', 'United States']\n",
    "ocean_Aus = ['Australia', 'New Zealand'] \n",
    "s_Amer = ['Brazil', 'Chile', 'Colombia']\n",
    "\n",
    "all_cont={\"Africa\":{'Nigeria', 'South Africa'}, \"Asia\":{'China', 'India', 'Indonesia', 'Israel', 'Japan', 'Korea', 'Malaysia','Philippines', 'Saudi Arabia', 'Thailand', 'Turkey', 'United Arab Emirates', 'Vietnam'}, \"Europe\": {'Austria', 'Belgium','Czech Republic', 'Denmark', 'Estonia', 'Finland','France', 'Germany', 'Greece', 'Hungary', 'Ireland', 'Italy', 'Latvia', 'Lithuania', 'Netherlands', 'Norway', 'Poland', 'Portugal', 'Romania', 'Russia', 'Slovak Republic', 'Spain', 'Sweden', 'Switzerland', 'Ukraine', 'United Kingdom'}, \"NC_Amer\":{'Canada', 'Mexico', 'United States'}, \"Ocean_Aus\" : {'Australia', 'New Zealand'}, \"S_Amer\" : {'Brazil', 'Chile', 'Colombia'}}"
   ]
  },
  {
   "cell_type": "code",
   "execution_count": 9,
   "id": "adfdc4b7",
   "metadata": {},
   "outputs": [],
   "source": [
    "#Create a new column Look at \"country\" column and find the corresponding continent\n",
    "def find_Contin(country):\n",
    "    if country in africa:\n",
    "        return \"Africa\"\n",
    "    elif country in asia:\n",
    "        return \"Asia\"\n",
    "    elif country in europe:\n",
    "        return \"Europe\"\n",
    "    elif country in nc_Amer:\n",
    "        return \"NC America\"\n",
    "    elif country in ocean_Aus:\n",
    "        return \"Oceania Australia\"\n",
    "    else:\n",
    "        return \"other\"\n",
    "\n",
    "pw[\"Continent\"] = pw[\"country\"].apply(lambda x: find_Contin(x))"
   ]
  },
  {
   "cell_type": "code",
   "execution_count": 10,
   "id": "212def4e",
   "metadata": {
    "scrolled": true
   },
   "outputs": [
    {
     "data": {
      "text/html": [
       "<div>\n",
       "<style scoped>\n",
       "    .dataframe tbody tr th:only-of-type {\n",
       "        vertical-align: middle;\n",
       "    }\n",
       "\n",
       "    .dataframe tbody tr th {\n",
       "        vertical-align: top;\n",
       "    }\n",
       "\n",
       "    .dataframe thead th {\n",
       "        text-align: right;\n",
       "    }\n",
       "</style>\n",
       "<table border=\"1\" class=\"dataframe\">\n",
       "  <thead>\n",
       "    <tr style=\"text-align: right;\">\n",
       "      <th></th>\n",
       "      <th>country_code</th>\n",
       "      <th>country</th>\n",
       "      <th>Rank</th>\n",
       "      <th>Password</th>\n",
       "      <th>User_count</th>\n",
       "      <th>Global_rank</th>\n",
       "      <th>time</th>\n",
       "      <th>Time_to_crack_in_seconds</th>\n",
       "      <th>Password_Length</th>\n",
       "      <th>Continent</th>\n",
       "    </tr>\n",
       "  </thead>\n",
       "  <tbody>\n",
       "    <tr>\n",
       "      <th>0</th>\n",
       "      <td>au</td>\n",
       "      <td>Australia</td>\n",
       "      <td>1</td>\n",
       "      <td>123456</td>\n",
       "      <td>308483</td>\n",
       "      <td>1.0</td>\n",
       "      <td>0.19 MILLISECONDS</td>\n",
       "      <td>0.0</td>\n",
       "      <td>6</td>\n",
       "      <td>Oceania Australia</td>\n",
       "    </tr>\n",
       "    <tr>\n",
       "      <th>1</th>\n",
       "      <td>at</td>\n",
       "      <td>Austria</td>\n",
       "      <td>1</td>\n",
       "      <td>123456</td>\n",
       "      <td>100939</td>\n",
       "      <td>1.0</td>\n",
       "      <td>0.19 MILLISECONDS</td>\n",
       "      <td>0.0</td>\n",
       "      <td>6</td>\n",
       "      <td>Europe</td>\n",
       "    </tr>\n",
       "    <tr>\n",
       "      <th>2</th>\n",
       "      <td>be</td>\n",
       "      <td>Belgium</td>\n",
       "      <td>1</td>\n",
       "      <td>123456</td>\n",
       "      <td>78777</td>\n",
       "      <td>1.0</td>\n",
       "      <td>0.19 MILLISECONDS</td>\n",
       "      <td>0.0</td>\n",
       "      <td>6</td>\n",
       "      <td>Europe</td>\n",
       "    </tr>\n",
       "    <tr>\n",
       "      <th>3</th>\n",
       "      <td>br</td>\n",
       "      <td>Brazil</td>\n",
       "      <td>1</td>\n",
       "      <td>123456</td>\n",
       "      <td>1003925</td>\n",
       "      <td>1.0</td>\n",
       "      <td>0.19 MILLISECONDS</td>\n",
       "      <td>0.0</td>\n",
       "      <td>6</td>\n",
       "      <td>other</td>\n",
       "    </tr>\n",
       "    <tr>\n",
       "      <th>4</th>\n",
       "      <td>ca</td>\n",
       "      <td>Canada</td>\n",
       "      <td>1</td>\n",
       "      <td>123456</td>\n",
       "      <td>570178</td>\n",
       "      <td>1.0</td>\n",
       "      <td>0.19 MILLISECONDS</td>\n",
       "      <td>0.0</td>\n",
       "      <td>6</td>\n",
       "      <td>NC America</td>\n",
       "    </tr>\n",
       "    <tr>\n",
       "      <th>...</th>\n",
       "      <td>...</td>\n",
       "      <td>...</td>\n",
       "      <td>...</td>\n",
       "      <td>...</td>\n",
       "      <td>...</td>\n",
       "      <td>...</td>\n",
       "      <td>...</td>\n",
       "      <td>...</td>\n",
       "      <td>...</td>\n",
       "      <td>...</td>\n",
       "    </tr>\n",
       "    <tr>\n",
       "      <th>9795</th>\n",
       "      <td>vn</td>\n",
       "      <td>Vietnam</td>\n",
       "      <td>196</td>\n",
       "      <td>hongngoc</td>\n",
       "      <td>2660</td>\n",
       "      <td>NaN</td>\n",
       "      <td>3 HOURS 24 MINUTES 13 SECONDS 31 JIFFIES 4 MIL...</td>\n",
       "      <td>12253.0</td>\n",
       "      <td>8</td>\n",
       "      <td>Asia</td>\n",
       "    </tr>\n",
       "    <tr>\n",
       "      <th>9796</th>\n",
       "      <td>vn</td>\n",
       "      <td>Vietnam</td>\n",
       "      <td>197</td>\n",
       "      <td>anhtien</td>\n",
       "      <td>2628</td>\n",
       "      <td>NaN</td>\n",
       "      <td>7 MINUTES 51 SECONDS 28 JIFFIES 1.29 MILLISECONDS</td>\n",
       "      <td>471.0</td>\n",
       "      <td>7</td>\n",
       "      <td>Asia</td>\n",
       "    </tr>\n",
       "    <tr>\n",
       "      <th>9797</th>\n",
       "      <td>vn</td>\n",
       "      <td>Vietnam</td>\n",
       "      <td>198</td>\n",
       "      <td>lanhuong</td>\n",
       "      <td>2620</td>\n",
       "      <td>NaN</td>\n",
       "      <td>3 HOURS 24 MINUTES 13 SECONDS 31 JIFFIES 4 MIL...</td>\n",
       "      <td>12253.0</td>\n",
       "      <td>8</td>\n",
       "      <td>Asia</td>\n",
       "    </tr>\n",
       "    <tr>\n",
       "      <th>9798</th>\n",
       "      <td>vn</td>\n",
       "      <td>Vietnam</td>\n",
       "      <td>199</td>\n",
       "      <td>congacon</td>\n",
       "      <td>2584</td>\n",
       "      <td>NaN</td>\n",
       "      <td>3 HOURS 24 MINUTES 13 SECONDS 31 JIFFIES 4 MIL...</td>\n",
       "      <td>12253.0</td>\n",
       "      <td>8</td>\n",
       "      <td>Asia</td>\n",
       "    </tr>\n",
       "    <tr>\n",
       "      <th>9799</th>\n",
       "      <td>vn</td>\n",
       "      <td>Vietnam</td>\n",
       "      <td>200</td>\n",
       "      <td>conmemay</td>\n",
       "      <td>2532</td>\n",
       "      <td>NaN</td>\n",
       "      <td>3 HOURS 24 MINUTES 13 SECONDS 31 JIFFIES 4 MIL...</td>\n",
       "      <td>12253.0</td>\n",
       "      <td>8</td>\n",
       "      <td>Asia</td>\n",
       "    </tr>\n",
       "  </tbody>\n",
       "</table>\n",
       "<p>9800 rows × 10 columns</p>\n",
       "</div>"
      ],
      "text/plain": [
       "     country_code    country  Rank  Password  User_count  Global_rank  \\\n",
       "0              au  Australia     1    123456      308483          1.0   \n",
       "1              at    Austria     1    123456      100939          1.0   \n",
       "2              be    Belgium     1    123456       78777          1.0   \n",
       "3              br     Brazil     1    123456     1003925          1.0   \n",
       "4              ca     Canada     1    123456      570178          1.0   \n",
       "...           ...        ...   ...       ...         ...          ...   \n",
       "9795           vn    Vietnam   196  hongngoc        2660          NaN   \n",
       "9796           vn    Vietnam   197   anhtien        2628          NaN   \n",
       "9797           vn    Vietnam   198  lanhuong        2620          NaN   \n",
       "9798           vn    Vietnam   199  congacon        2584          NaN   \n",
       "9799           vn    Vietnam   200  conmemay        2532          NaN   \n",
       "\n",
       "                                                   time  \\\n",
       "0                                     0.19 MILLISECONDS   \n",
       "1                                     0.19 MILLISECONDS   \n",
       "2                                     0.19 MILLISECONDS   \n",
       "3                                     0.19 MILLISECONDS   \n",
       "4                                     0.19 MILLISECONDS   \n",
       "...                                                 ...   \n",
       "9795  3 HOURS 24 MINUTES 13 SECONDS 31 JIFFIES 4 MIL...   \n",
       "9796  7 MINUTES 51 SECONDS 28 JIFFIES 1.29 MILLISECONDS   \n",
       "9797  3 HOURS 24 MINUTES 13 SECONDS 31 JIFFIES 4 MIL...   \n",
       "9798  3 HOURS 24 MINUTES 13 SECONDS 31 JIFFIES 4 MIL...   \n",
       "9799  3 HOURS 24 MINUTES 13 SECONDS 31 JIFFIES 4 MIL...   \n",
       "\n",
       "      Time_to_crack_in_seconds  Password_Length          Continent  \n",
       "0                          0.0                6  Oceania Australia  \n",
       "1                          0.0                6             Europe  \n",
       "2                          0.0                6             Europe  \n",
       "3                          0.0                6              other  \n",
       "4                          0.0                6         NC America  \n",
       "...                        ...              ...                ...  \n",
       "9795                   12253.0                8               Asia  \n",
       "9796                     471.0                7               Asia  \n",
       "9797                   12253.0                8               Asia  \n",
       "9798                   12253.0                8               Asia  \n",
       "9799                   12253.0                8               Asia  \n",
       "\n",
       "[9800 rows x 10 columns]"
      ]
     },
     "execution_count": 10,
     "metadata": {},
     "output_type": "execute_result"
    }
   ],
   "source": [
    "pw"
   ]
  },
  {
   "cell_type": "markdown",
   "id": "31c830d2",
   "metadata": {},
   "source": [
    "<p><a name=\"Compcountry\"></a></p>\n",
    "\n",
    "# -------- Comparing by countries --------"
   ]
  },
  {
   "cell_type": "markdown",
   "id": "eb56fa74",
   "metadata": {},
   "source": [
    "<p><a name=\"countryusrcount\"></a></p>\n",
    "\n",
    "## How many users in each country were found to have used passwords on the list"
   ]
  },
  {
   "cell_type": "code",
   "execution_count": 11,
   "id": "3cb7bb1a",
   "metadata": {
    "scrolled": false
   },
   "outputs": [
    {
     "data": {
      "image/png": "[encoded data removed]",
      "text/plain": [
       "<Figure size 1008x504 with 1 Axes>"
      ]
     },
     "metadata": {},
     "output_type": "display_data"
    }
   ],
   "source": [
    "# Sum of User count by country\n",
    "plt.figure(figsize = (14,7))\n",
    "sum_Usr_cnt_ctry = pw.groupby(\"country\")[\"User_count\"].sum().sort_values(ascending=False).plot.bar(color = 'b')\n",
    "sum_Usr_cnt_ctry.ylabel = (\"User Count\")"
   ]
  },
  {
   "cell_type": "code",
   "execution_count": 12,
   "id": "013d2652",
   "metadata": {
    "scrolled": true
   },
   "outputs": [
    {
     "data": {
      "text/plain": [
       "country\n",
       "Russia                  146837497\n",
       "United States            31229262\n",
       "Germany                  28364318\n",
       "France                   16160255\n",
       "China                    14739683\n",
       "Italy                    14030845\n",
       "India                     8186249\n",
       "United Kingdom            7440559\n",
       "Vietnam                   6026634\n",
       "Spain                     5493452\n",
       "Canada                    5277926\n",
       "Brazil                    4943358\n",
       "Poland                    4412538\n",
       "Turkey                    3944162\n",
       "Indonesia                 3223828\n",
       "Australia                 3083341\n",
       "Philippines               2750631\n",
       "Czech Republic            2288530\n",
       "Portugal                  2282038\n",
       "Mexico                    2162221\n",
       "Thailand                  2055344\n",
       "Japan                     1906700\n",
       "Ukraine                   1829898\n",
       "Netherlands               1636625\n",
       "Romania                   1509270\n",
       "Colombia                  1379631\n",
       "New Zealand               1367054\n",
       "Malaysia                  1359725\n",
       "Sweden                    1194218\n",
       "Hungary                   1159682\n",
       "Korea                      910432\n",
       "Denmark                    862571\n",
       "Greece                     861187\n",
       "Chile                      846354\n",
       "Israel                     793908\n",
       "Nigeria                    757126\n",
       "Belgium                    729661\n",
       "Slovak Republic            702289\n",
       "Austria                    695307\n",
       "Switzerland                657863\n",
       "South Africa               609061\n",
       "Ireland                    590381\n",
       "Saudi Arabia               547759\n",
       "United Arab Emirates       529433\n",
       "Norway                     528173\n",
       "Lithuania                  406310\n",
       "Finland                    268236\n",
       "Latvia                     181072\n",
       "Estonia                    169656\n",
       "Name: User_count, dtype: int64"
      ]
     },
     "execution_count": 12,
     "metadata": {},
     "output_type": "execute_result"
    }
   ],
   "source": [
    "#list view of the sum of User count by country\n",
    "sum_Usr_cnt_ctry = pw.groupby(\"country\")[\"User_count\"].sum().sort_values(ascending=False)\n",
    "sum_Usr_cnt_ctry"
   ]
  },
  {
   "cell_type": "code",
   "execution_count": 13,
   "id": "d1032864",
   "metadata": {},
   "outputs": [
    {
     "data": {
      "text/plain": [
       "34685.94418367347"
      ]
     },
     "execution_count": 13,
     "metadata": {},
     "output_type": "execute_result"
    }
   ],
   "source": [
    "pw[\"User_count\"].mean()"
   ]
  },
  {
   "cell_type": "markdown",
   "id": "8cb9af1d",
   "metadata": {},
   "source": [
    "<p><a name=\"countrylengthvsttcis\"></a></p>\n",
    "\n",
    "## What is the average password length by country?"
   ]
  },
  {
   "cell_type": "code",
   "execution_count": 14,
   "id": "7fca1a0d",
   "metadata": {
    "scrolled": false
   },
   "outputs": [
    {
     "data": {
      "image/png": "[encoded data removed]",
      "text/plain": [
       "<Figure size 1008x504 with 1 Axes>"
      ]
     },
     "metadata": {},
     "output_type": "display_data"
    }
   ],
   "source": [
    "#WITHOUT LOG: Plot by mean password length of each country\n",
    "plt.figure(figsize = (14,7))\n",
    "mean_pwd_len_ctry = pw.groupby(\"country\")[\"Password_Length\"].mean().sort_values(ascending=False).plot.bar(color = 'b')\n",
    "mean_pwd_len_ctry.ylabel = (\"Password Length\")"
   ]
  },
  {
   "cell_type": "code",
   "execution_count": 15,
   "id": "32ae95aa",
   "metadata": {},
   "outputs": [
    {
     "data": {
      "text/plain": [
       "7.116224489795918"
      ]
     },
     "execution_count": 15,
     "metadata": {},
     "output_type": "execute_result"
    }
   ],
   "source": [
    "pw[\"Password_Length\"].mean()"
   ]
  },
  {
   "cell_type": "code",
   "execution_count": 16,
   "id": "6cce92a5",
   "metadata": {
    "scrolled": true
   },
   "outputs": [
    {
     "data": {
      "text/plain": [
       "country\n",
       "Vietnam                 7.870\n",
       "Japan                   7.710\n",
       "Indonesia               7.685\n",
       "China                   7.620\n",
       "Saudi Arabia            7.480\n",
       "Thailand                7.455\n",
       "Russia                  7.390\n",
       "Ukraine                 7.350\n",
       "Greece                  7.325\n",
       "Chile                   7.280\n",
       "Romania                 7.270\n",
       "Turkey                  7.240\n",
       "Colombia                7.235\n",
       "Lithuania               7.225\n",
       "Malaysia                7.220\n",
       "Philippines             7.175\n",
       "Mexico                  7.170\n",
       "United Kingdom          7.165\n",
       "Israel                  7.155\n",
       "India                   7.150\n",
       "Italy                   7.100\n",
       "Portugal                7.095\n",
       "Netherlands             7.085\n",
       "Belgium                 7.085\n",
       "Spain                   7.065\n",
       "United Arab Emirates    7.060\n",
       "New Zealand             7.050\n",
       "Denmark                 7.045\n",
       "Latvia                  7.040\n",
       "Finland                 7.040\n",
       "Brazil                  7.040\n",
       "Nigeria                 7.035\n",
       "Estonia                 7.025\n",
       "Ireland                 7.015\n",
       "Australia               6.975\n",
       "Norway                  6.970\n",
       "Canada                  6.965\n",
       "France                  6.965\n",
       "Poland                  6.950\n",
       "United States           6.915\n",
       "Switzerland             6.895\n",
       "Austria                 6.870\n",
       "Germany                 6.860\n",
       "South Africa            6.825\n",
       "Czech Republic          6.810\n",
       "Sweden                  6.780\n",
       "Hungary                 6.720\n",
       "Slovak Republic         6.710\n",
       "Korea                   6.535\n",
       "Name: Password_Length, dtype: float64"
      ]
     },
     "execution_count": 16,
     "metadata": {},
     "output_type": "execute_result"
    }
   ],
   "source": [
    "pw.groupby(\"country\")[\"Password_Length\"].mean().sort_values(ascending=False)"
   ]
  },
  {
   "cell_type": "code",
   "execution_count": null,
   "id": "bcd77308",
   "metadata": {
    "scrolled": false
   },
   "outputs": [],
   "source": [
    "#WITH LOG: Plot by mean password length of each country\n",
    "plt.figure(figsize = (14,7))\n",
    "mean_pwd_len_ctry = pw.groupby(\"country\")[\"Password_Length\"].mean().sort_values(ascending=False).plot.bar(color = 'b')\n",
    "mean_pwd_len_ctry.ylabel = (\"Password Length\")\n",
    "plt.yscale(\"log\")"
   ]
  },
  {
   "cell_type": "code",
   "execution_count": null,
   "id": "618fbe56",
   "metadata": {},
   "outputs": [],
   "source": [
    "# mean password length of all countries\n",
    "pw[\"Password_Length\"].mean()"
   ]
  },
  {
   "cell_type": "code",
   "execution_count": null,
   "id": "bbf56ab3",
   "metadata": {},
   "outputs": [],
   "source": [
    "#mean password length of just US\n",
    "pw[pw[\"country_code\"] == \"us\"][\"Password_Length\"].mean()"
   ]
  },
  {
   "cell_type": "markdown",
   "id": "2b4817da",
   "metadata": {},
   "source": [
    "<p><a name=\"countryavgttcis\"></a></p>\n",
    "\n",
    "# What is the average time to crack the password by country?"
   ]
  },
  {
   "cell_type": "code",
   "execution_count": null,
   "id": "b9db441a",
   "metadata": {},
   "outputs": [],
   "source": [
    "#WITH LOG: mean time to crack by country\n",
    "plt.figure(figsize = (14,7))\n",
    "pw.groupby(\"country\")[\"Time_to_crack_in_seconds\"].mean().sort_values(ascending=False).plot.bar(color = 'r')\n",
    "\n",
    "plt.yscale(\"log\")"
   ]
  },
  {
   "cell_type": "code",
   "execution_count": null,
   "id": "1db055f6",
   "metadata": {},
   "outputs": [],
   "source": [
    "pw[\"Time_to_crack_in_seconds\"].mean()"
   ]
  },
  {
   "cell_type": "code",
   "execution_count": null,
   "id": "3f867b1e",
   "metadata": {
    "scrolled": true
   },
   "outputs": [],
   "source": [
    "pw.groupby(\"country\")[\"Time_to_crack_in_seconds\"].mean().sort_values(ascending=False)"
   ]
  },
  {
   "cell_type": "code",
   "execution_count": null,
   "id": "6dc76efc",
   "metadata": {
    "scrolled": false
   },
   "outputs": [],
   "source": [
    "#WITHOUT LOG: mean time to crack by country\n",
    "#Will not be using this, as it's difficult to see what's happening here due to most of the time to crack being 0 or close to 0\n",
    "plt.figure(figsize = (14,7))\n",
    "pw.groupby(\"country\")[\"Time_to_crack_in_seconds\"].mean().sort_values(ascending=False).plot.bar(color = 'r')"
   ]
  },
  {
   "cell_type": "code",
   "execution_count": null,
   "id": "6128e2c8",
   "metadata": {
    "scrolled": true
   },
   "outputs": [],
   "source": [
    "#mean time to crack in seconds of all countries in 2020\n",
    "pw[\"Time_to_crack_in_seconds\"].mean()"
   ]
  },
  {
   "cell_type": "code",
   "execution_count": null,
   "id": "bc4df186",
   "metadata": {
    "scrolled": false
   },
   "outputs": [],
   "source": [
    "#mean time to crack in seconds of each countries in 2020\n",
    "country_avg_TTCIS = pw.groupby(\"country\")[\"Time_to_crack_in_seconds\"].mean()\n",
    "country_avg_TTCIS"
   ]
  },
  {
   "cell_type": "markdown",
   "id": "07045335",
   "metadata": {},
   "source": [
    "<p><a name=\"countrysharetoppass\"></a></p>\n",
    "\n",
    "## Do different countries share same top used passwords (Top 3)"
   ]
  },
  {
   "cell_type": "code",
   "execution_count": null,
   "id": "606a0e70",
   "metadata": {},
   "outputs": [],
   "source": [
    "pw"
   ]
  },
  {
   "cell_type": "code",
   "execution_count": null,
   "id": "2cc0be56",
   "metadata": {
    "scrolled": false
   },
   "outputs": [],
   "source": [
    "df1 = pw.groupby([\"country\"])\n",
    "df2 = df1.apply(lambda x: x.sort_values([\"User_count\"]))\n",
    "df3 = df2.reset_index(drop=True)\n",
    "df4 = df3.groupby(\"country\").head(1)\n",
    "df5 = df4.sort_values(\"User_count\", ascending = False)\n",
    "df5.to_csv(\"df5.csv\")"
   ]
  },
  {
   "cell_type": "code",
   "execution_count": null,
   "id": "79afc45b",
   "metadata": {},
   "outputs": [],
   "source": [
    "(len(df4[\"Password\"].unique())"
   ]
  },
  {
   "cell_type": "code",
   "execution_count": null,
   "id": "120a1633",
   "metadata": {
    "scrolled": true
   },
   "outputs": [],
   "source": [
    "toppwdbycountry = pw.groupby([\"country\", \"Password\"])[\"User_count\"].max().sort_values(ascending = False)\n",
    "toppwdbycountry.to_csv(\"toppwdbycountry.csv\")b\n",
    "toppwdbycountry"
   ]
  },
  {
   "cell_type": "markdown",
   "id": "0c2e5abc",
   "metadata": {},
   "source": [
    "Since there are some of the same passwords on list, analyze by unique passwords"
   ]
  },
  {
   "cell_type": "markdown",
   "id": "b97641e4",
   "metadata": {},
   "source": [
    "<p><a name=\"uniqpwd\"></a></p>\n",
    "\n",
    "\n",
    "# -------- Analysis of unique passwords --------"
   ]
  },
  {
   "cell_type": "markdown",
   "id": "d152c86b",
   "metadata": {},
   "source": [
    "**Finding unique passwords from list**"
   ]
  },
  {
   "cell_type": "code",
   "execution_count": null,
   "id": "19c3d2ac",
   "metadata": {
    "scrolled": true
   },
   "outputs": [],
   "source": [
    "#dropping duplicates passwords from the list\n",
    "pw.drop_duplicates(subset= [\"Password\"], keep = 'first', inplace = True)\n",
    "pw"
   ]
  },
  {
   "cell_type": "code",
   "execution_count": null,
   "id": "7d15426d",
   "metadata": {},
   "outputs": [],
   "source": [
    "pw[\"Password_Length\"].mean()"
   ]
  },
  {
   "cell_type": "code",
   "execution_count": null,
   "id": "17b3dadd",
   "metadata": {
    "scrolled": false
   },
   "outputs": [],
   "source": [
    "pw.groupby(\"Password\")[\"User_count\"].max().sort_values(ascending = False)"
   ]
  },
  {
   "cell_type": "markdown",
   "id": "2cdea11f",
   "metadata": {},
   "source": [
    "<p><a name=\"uniqdissect\"></a></p>\n",
    "\n",
    "## Dissecting unique passwords by character type"
   ]
  },
  {
   "cell_type": "markdown",
   "id": "eb19d6a4",
   "metadata": {},
   "source": [
    "**Create bool columns based on if they meet password criteria. Only focusing on unique passwords**"
   ]
  },
  {
   "cell_type": "code",
   "execution_count": null,
   "id": "77ba4052",
   "metadata": {},
   "outputs": [],
   "source": [
    "special_char = \"!@#$%^&*()-+?_=,<>/\"\n",
    "numbers = \"1234567890\"\n",
    "upper = \"ABCDEFGHIJKLMNOPQRSTUVWXYZ\"\n",
    "lower = \"abcdefghijklmnopqrstuvwxyz\"\n",
    "\n",
    "\n",
    "def hasUpper(x):\n",
    "    for i in range(len(x)):\n",
    "        if x[i] in upper:\n",
    "            return True\n",
    "            break\n",
    "        if i != len(x)-1:\n",
    "            i+=1\n",
    "        else:\n",
    "            return False\n",
    "\n",
    "\n",
    "def hasLower(x):\n",
    "    for i in range(len(x)):\n",
    "        if x[i] in lower:\n",
    "            return True\n",
    "            break\n",
    "        if i != len(x)-1:\n",
    "            i+=1\n",
    "        else:\n",
    "            return False\n",
    "\n",
    "\n",
    "def hasNum(x):\n",
    "    for i in range(len(x)):\n",
    "        if x[i] in numbers:\n",
    "            return True\n",
    "            break\n",
    "        if i != len(x)-1:\n",
    "            i+=1\n",
    "        else:\n",
    "            return False\n",
    "\n",
    "\n",
    "def hasSpec(x):\n",
    "    for i in range(len(x)):\n",
    "        if x[i] in special_char:\n",
    "            return True\n",
    "            break\n",
    "        if i != len(x)-1:\n",
    "            i+=1\n",
    "        else:\n",
    "            return False\n",
    "\n",
    "\n",
    "def Len_Over_12(Password_Length):\n",
    "    if Password_Length > 12:\n",
    "        return True\n",
    "        if i != len(Password_Length):\n",
    "            i+=1\n",
    "    else:\n",
    "        return False\n",
    "\n",
    "\n",
    "\n",
    "pw[\"Has_Upper\"] = pw[\"Password\"].apply(lambda x: hasUpper(x))\n",
    "pw[\"Has_Lower\"] = pw[\"Password\"].apply(lambda x: hasLower(x))\n",
    "pw[\"Has_Num\"] = pw[\"Password\"].apply(lambda x: hasNum(x))\n",
    "pw[\"Has_Special_Char\"] = pw[\"Password\"].apply(lambda x: hasSpec(x))\n",
    "pw[\"Has_len_Over12\"] = pw[\"Password_Length\"].apply(lambda x: Len_Over_12(x))"
   ]
  },
  {
   "cell_type": "code",
   "execution_count": null,
   "id": "859e7b9a",
   "metadata": {
    "scrolled": false
   },
   "outputs": [],
   "source": [
    "pw"
   ]
  },
  {
   "cell_type": "markdown",
   "id": "d98543db",
   "metadata": {},
   "source": [
    "**Adding Password complexity column that counts True by row**"
   ]
  },
  {
   "cell_type": "code",
   "execution_count": null,
   "id": "e8949cdc",
   "metadata": {},
   "outputs": [],
   "source": [
    "pw[\"Password_Complexity\"] = pw.Has_Upper.astype(int) + pw.Has_Lower.astype(int) + pw.Has_Num.astype(int) + pw.Has_Special_Char.astype(int) + pw.Has_len_Over12.astype(int)"
   ]
  },
  {
   "cell_type": "code",
   "execution_count": null,
   "id": "20235d8d",
   "metadata": {
    "scrolled": false
   },
   "outputs": [],
   "source": [
    "pw"
   ]
  },
  {
   "cell_type": "code",
   "execution_count": null,
   "id": "f037b7d9",
   "metadata": {},
   "outputs": [],
   "source": [
    "#Overall password complexity mean of all countries\n",
    "pw[\"Password_Complexity\"].mean()"
   ]
  },
  {
   "cell_type": "code",
   "execution_count": null,
   "id": "9d646c6d",
   "metadata": {},
   "outputs": [],
   "source": [
    "#Password complexity mean of each countries\n",
    "country_avg_complex = pw.groupby(\"country\")[\"Password_Complexity\"].mean()\n",
    "country_avg_complex"
   ]
  },
  {
   "cell_type": "markdown",
   "id": "aab859ae",
   "metadata": {},
   "source": [
    "**Find the number of passwords based on password type + their statistical details**"
   ]
  },
  {
   "cell_type": "markdown",
   "id": "2a36f528",
   "metadata": {},
   "source": [
    "---------- ******** ----------<br>\n",
    "Upper Case Passwords<br>\n",
    "---------- ******** ----------"
   ]
  },
  {
   "cell_type": "code",
   "execution_count": null,
   "id": "dde6464c",
   "metadata": {
    "scrolled": true
   },
   "outputs": [],
   "source": [
    "#Only all upper case passwords\n",
    "onlyUpPwd = pw.loc[(pw.Has_Upper == True) & (pw.Has_Lower == False) & (pw.Has_Num ==False) & (pw.Has_Special_Char ==False) & (pw.Has_len_Over12 == False)]\n",
    "onlyUpPwd"
   ]
  },
  {
   "cell_type": "code",
   "execution_count": null,
   "id": "d9cf0996",
   "metadata": {},
   "outputs": [],
   "source": [
    "len_onlyUpPwd = len(onlyUpPwd)\n",
    "len_onlyUpPwd"
   ]
  },
  {
   "cell_type": "code",
   "execution_count": null,
   "id": "d997f358",
   "metadata": {},
   "outputs": [],
   "source": [
    "onlyUpPwd.describe()"
   ]
  },
  {
   "cell_type": "markdown",
   "id": "a41b85cf",
   "metadata": {},
   "source": [
    "---------- ******** ----------<br>\n",
    "Lower Case Passwords<br>\n",
    "---------- ******** ----------"
   ]
  },
  {
   "cell_type": "code",
   "execution_count": null,
   "id": "75f6d7f8",
   "metadata": {
    "scrolled": true
   },
   "outputs": [],
   "source": [
    "#Only all lower case passwords\n",
    "onlyLowPwd = pw.loc[(pw.Has_Upper == False) & (pw.Has_Lower == True) & (pw.Has_Num ==False) & (pw.Has_Special_Char ==False) & (pw.Has_len_Over12 == False)]\n",
    "onlyLowPwd"
   ]
  },
  {
   "cell_type": "code",
   "execution_count": null,
   "id": "0c1b7674",
   "metadata": {},
   "outputs": [],
   "source": [
    "len_onlyLowPwd= len(onlyLowPwd)\n",
    "len_onlyLowPwd"
   ]
  },
  {
   "cell_type": "code",
   "execution_count": null,
   "id": "7c5f0f33",
   "metadata": {},
   "outputs": [],
   "source": [
    "onlyLowPwd.describe()"
   ]
  },
  {
   "cell_type": "markdown",
   "id": "b175a0fe",
   "metadata": {},
   "source": [
    "---------- ******** ----------<br>\n",
    "Number Passwords<br>\n",
    "---------- ******** ----------"
   ]
  },
  {
   "cell_type": "code",
   "execution_count": null,
   "id": "ae86b286",
   "metadata": {
    "scrolled": true
   },
   "outputs": [],
   "source": [
    "#paswords that are soley numbers\n",
    "onlyNumPwd = pw.loc[(pw.Has_Upper == False) & (pw.Has_Lower == False) & (pw.Has_Num ==True) & (pw.Has_Special_Char ==False) & (pw.Has_len_Over12 == False)]\n",
    "onlyNumPwd"
   ]
  },
  {
   "cell_type": "code",
   "execution_count": null,
   "id": "47e7e083",
   "metadata": {},
   "outputs": [],
   "source": [
    "len_onlyNumPwd = len(onlyNumPwd)\n",
    "len_onlyNumPwd"
   ]
  },
  {
   "cell_type": "code",
   "execution_count": null,
   "id": "e3adff7d",
   "metadata": {},
   "outputs": [],
   "source": [
    "onlyNumPwd.describe()"
   ]
  },
  {
   "cell_type": "markdown",
   "id": "dd4ddf73",
   "metadata": {},
   "source": [
    "---------- ******** ----------<br>\n",
    "Special Char Passwords<br>\n",
    "---------- ******** ----------"
   ]
  },
  {
   "cell_type": "code",
   "execution_count": null,
   "id": "704abee1",
   "metadata": {},
   "outputs": [],
   "source": [
    "#passwords that are soley special chacters\n",
    "onlySpePwd = pw.loc[(pw.Has_Upper == False) & (pw.Has_Lower == False) & (pw.Has_Num ==False) & (pw.Has_Special_Char ==True) & (pw.Has_len_Over12 == False)]\n",
    "onlySpePwd"
   ]
  },
  {
   "cell_type": "code",
   "execution_count": null,
   "id": "d02e99e4",
   "metadata": {},
   "outputs": [],
   "source": [
    "len_onlySpePwd= len(onlySpePwd)\n",
    "len_onlySpePwd"
   ]
  },
  {
   "cell_type": "markdown",
   "id": "16976088",
   "metadata": {},
   "source": [
    "---------- ******** ----------<br>\n",
    "Other Language Passwords<br>\n",
    "---------- ******** ----------"
   ]
  },
  {
   "cell_type": "code",
   "execution_count": null,
   "id": "1d86f2d7",
   "metadata": {
    "scrolled": false
   },
   "outputs": [],
   "source": [
    "#Other language password\n",
    "otherPwd = pw.loc[(pw.Has_Upper == False) & (pw.Has_Lower == False) & (pw.Has_Num ==False) & (pw.Has_Special_Char ==False) & (pw.Has_len_Over12 == False)]\n",
    "otherPwd"
   ]
  },
  {
   "cell_type": "code",
   "execution_count": null,
   "id": "587dcc89",
   "metadata": {},
   "outputs": [],
   "source": [
    "len_otherPwd = len(otherPwd)\n",
    "len_otherPwd"
   ]
  },
  {
   "cell_type": "markdown",
   "id": "54ebbe3c",
   "metadata": {},
   "source": [
    "---------- ******** ----------<br>\n",
    "Strong Passwords<br>\n",
    "---------- ******** ----------"
   ]
  },
  {
   "cell_type": "code",
   "execution_count": null,
   "id": "1d749905",
   "metadata": {
    "scrolled": true
   },
   "outputs": [],
   "source": [
    "# finding passwords that meet all strong reqs : 0 found\n",
    "strongest_pwd = pw.loc[(pw.Has_Upper == True) & (pw.Has_Lower == True) & (pw.Has_Num ==True) & (pw.Has_Special_Char ==True) & (pw.Has_len_Over12 == True)]\n",
    "strongest_pwd"
   ]
  },
  {
   "cell_type": "markdown",
   "id": "aec2c810",
   "metadata": {},
   "source": [
    "<p><a name=\"pwdcomplex\"></a></p>\n",
    "\n",
    "# ------- Analysis by Password Complexity ------- "
   ]
  },
  {
   "cell_type": "code",
   "execution_count": null,
   "id": "9d9cc266",
   "metadata": {},
   "outputs": [],
   "source": [
    "# since there isn't a password that means all 5 requirements (Strongest), finding them meeting 4\n",
    "pw[pw[\"Password_Complexity\"] == 4]"
   ]
  },
  {
   "cell_type": "markdown",
   "id": "3107951f",
   "metadata": {},
   "source": [
    "**Stats of the most complex passwords - (Complex 4)**"
   ]
  },
  {
   "cell_type": "code",
   "execution_count": null,
   "id": "df5258bf",
   "metadata": {
    "scrolled": true
   },
   "outputs": [],
   "source": [
    "#AVG time to crack in seconds of passwords with number 4 complexity\n",
    "pwd_Complex4 = round((pw[pw[\"Password_Complexity\"] == 4][\"Time_to_crack_in_seconds\"].mean()), 0)\n",
    "pwd_Complex4"
   ]
  },
  {
   "cell_type": "code",
   "execution_count": null,
   "id": "5a12c158",
   "metadata": {
    "scrolled": true
   },
   "outputs": [],
   "source": [
    "#AVG length of passwords with number 4 complexity\n",
    "pw[pw[\"Password_Complexity\"] == 4][\"Password_Length\"].mean()"
   ]
  },
  {
   "cell_type": "markdown",
   "id": "edfed128",
   "metadata": {},
   "source": [
    "**Stats of the least complex passwords - (Complex 1)**"
   ]
  },
  {
   "cell_type": "code",
   "execution_count": null,
   "id": "0fa6744d",
   "metadata": {
    "scrolled": true
   },
   "outputs": [],
   "source": [
    "#AVG time to crack in seconds of passwords with number 1 complexity\n",
    "pwd_Complex1 = round((pw[pw[\"Password_Complexity\"] == 1][\"Time_to_crack_in_seconds\"].mean()), 0)               \n",
    "pwd_Complex1"
   ]
  },
  {
   "cell_type": "code",
   "execution_count": null,
   "id": "2bad5fd0",
   "metadata": {},
   "outputs": [],
   "source": [
    "#AVG length of passwords with number 1 complexity\n",
    "pw[pw[\"Password_Complexity\"] == 1][\"Password_Length\"].mean()"
   ]
  },
  {
   "cell_type": "markdown",
   "id": "62bae3ed",
   "metadata": {},
   "source": [
    "**Comparision between Complex 1 and Complex 4 and their Mean Time to Crack in Seconds**"
   ]
  },
  {
   "cell_type": "markdown",
   "id": "6eeba530",
   "metadata": {},
   "source": [
    "- PC1 - Password Complex 1\n",
    "- PC4 - Password Compled 4\n",
    "\n",
    "This graph shows us that PC4 takes a lot longer to crack compared to PC1"
   ]
  },
  {
   "cell_type": "code",
   "execution_count": null,
   "id": "79701c23",
   "metadata": {
    "scrolled": false
   },
   "outputs": [],
   "source": [
    "x = [\"PC 1\", \"PC 4\"]\n",
    "y = [pwd_Complex1, pwd_Complex4]\n",
    "plt.figure(figsize=(10, 7))\n",
    "plt.bar(x, y, color=['red', 'green'])\n",
    "\n",
    "plt.xlabel('Password Complexity')\n",
    "plt.ylabel('Mean Time to crack in seconds')\n",
    "\n",
    "# Have to log otherwise PC1 is not shown\n",
    "plt.yscale(\"log\")"
   ]
  },
  {
   "cell_type": "markdown",
   "id": "108a188a",
   "metadata": {},
   "source": [
    "**Comparing password complexity vs time to crack of each country**"
   ]
  },
  {
   "cell_type": "markdown",
   "id": "cb1662e8",
   "metadata": {},
   "source": [
    "-------"
   ]
  },
  {
   "cell_type": "markdown",
   "id": "7e78332a",
   "metadata": {},
   "source": [
    "<p><a name=\"strongpwdele\"></a></p>\n",
    "\n",
    "## Comparing the elements that make a strong password using boxplot"
   ]
  },
  {
   "cell_type": "markdown",
   "id": "8162bef7",
   "metadata": {},
   "source": [
    "**Taking the log of password crack by seconds column to use for boxplot**"
   ]
  },
  {
   "cell_type": "code",
   "execution_count": null,
   "id": "dac9d425",
   "metadata": {
    "scrolled": true
   },
   "outputs": [],
   "source": [
    "pw[\"Log_of_TTCIS\"] = np.log(pw[\"Time_to_crack_in_seconds\"]+1)"
   ]
  },
  {
   "cell_type": "code",
   "execution_count": null,
   "id": "8ed9d6b1",
   "metadata": {},
   "outputs": [],
   "source": [
    "pw"
   ]
  },
  {
   "cell_type": "code",
   "execution_count": null,
   "id": "ec33d3ce",
   "metadata": {
    "scrolled": false
   },
   "outputs": [],
   "source": [
    "plt.figure(figsize = (14,7))\n",
    "pw.boxplot(column=['Has_Upper', 'Has_Lower', 'Has_Num', \"Has_Special_Char\", \"Has_len_Over12\"]) "
   ]
  },
  {
   "cell_type": "markdown",
   "id": "5c29573c",
   "metadata": {},
   "source": [
    "---------- ******** ----------<br>\n",
    "Has Uppercase Characters<br>\n",
    "---------- ******** ----------"
   ]
  },
  {
   "cell_type": "code",
   "execution_count": null,
   "id": "f3be3d9c",
   "metadata": {
    "scrolled": true
   },
   "outputs": [],
   "source": [
    "bp_Up = pw.boxplot(['Log_of_TTCIS'], by=\"Has_Upper\")\n"
   ]
  },
  {
   "cell_type": "code",
   "execution_count": null,
   "id": "23672975",
   "metadata": {},
   "outputs": [],
   "source": [
    "bp_Up.describe()"
   ]
  },
  {
   "cell_type": "markdown",
   "id": "67580e20",
   "metadata": {},
   "source": [
    "---------- ******** ----------<br>\n",
    "Has Lowercase Characters<br>\n",
    "---------- ******** ----------"
   ]
  },
  {
   "cell_type": "code",
   "execution_count": null,
   "id": "7836985e",
   "metadata": {
    "scrolled": false
   },
   "outputs": [],
   "source": [
    "bp_Low = pw.boxplot(['Log_of_TTCIS'], by=\"Has_Lower\")"
   ]
  },
  {
   "cell_type": "markdown",
   "id": "4e6e4298",
   "metadata": {},
   "source": [
    "---------- ******** ----------<br>\n",
    "Has Numbers <br>\n",
    "---------- ******** ----------"
   ]
  },
  {
   "cell_type": "code",
   "execution_count": null,
   "id": "670d9a78",
   "metadata": {},
   "outputs": [],
   "source": [
    "pw.boxplot(['Log_of_TTCIS'], by='Has_Num')"
   ]
  },
  {
   "cell_type": "markdown",
   "id": "2edafc28",
   "metadata": {},
   "source": [
    "---------- ******** ----------<br>\n",
    "Has Special Characters<br>\n",
    "---------- ******** ----------"
   ]
  },
  {
   "cell_type": "code",
   "execution_count": null,
   "id": "3851c065",
   "metadata": {
    "scrolled": true
   },
   "outputs": [],
   "source": [
    "pw.boxplot(['Log_of_TTCIS'], by=\"Has_Special_Char\")"
   ]
  },
  {
   "cell_type": "markdown",
   "id": "67f93c37",
   "metadata": {},
   "source": [
    "---------- ******** ----------<br>\n",
    "Has Password Length Over 12 <br>\n",
    "---------- ******** ----------"
   ]
  },
  {
   "cell_type": "code",
   "execution_count": null,
   "id": "d45284fd",
   "metadata": {},
   "outputs": [],
   "source": [
    "pw.boxplot(['Log_of_TTCIS'], by=\"Has_len_Over12\")"
   ]
  },
  {
   "cell_type": "markdown",
   "id": "53aaad33",
   "metadata": {},
   "source": [
    "**Plotting Password Complexity vs Time to Crack in Seconds by Country**"
   ]
  },
  {
   "cell_type": "code",
   "execution_count": null,
   "id": "6b400508",
   "metadata": {
    "scrolled": true
   },
   "outputs": [],
   "source": [
    "import pandas as pd\n",
    "import matplotlib.pyplot as plt\n",
    "import seaborn as sns\n",
    "dd=pd.melt(pw,id_vars=['country'],value_vars=['Password_Complexity','Time_to_crack_in_seconds'],var_name='Passwords')\n",
    "sns.boxplot(x='country',y='value',data=dd,hue='Passwords')\n",
    "plt.yscale(\"log\")"
   ]
  },
  {
   "cell_type": "code",
   "execution_count": null,
   "id": "169d2982",
   "metadata": {
    "scrolled": true
   },
   "outputs": [],
   "source": [
    "pw.boxplot('Password_Complexity', by='Time_to_crack_in_seconds')\n"
   ]
  },
  {
   "cell_type": "markdown",
   "id": "acaef51f",
   "metadata": {},
   "source": [
    "<p><a name=\"onecomplextype\"></a></p>\n",
    "\n",
    "## Of the unique passwords, what percentage has only one complexity type"
   ]
  },
  {
   "cell_type": "code",
   "execution_count": null,
   "id": "1f83ed36",
   "metadata": {
    "scrolled": false
   },
   "outputs": [],
   "source": [
    "# Pie chart of unique passwords by character type\n",
    "two_type = len(pw) - (len_onlyUpPwd+ len_onlyLowPwd+ len_onlyNumPwd+ len_onlySpePwd + len_otherPwd)\n",
    "\n",
    "pie_chart_arr = np.array([len_onlyUpPwd, len_onlyLowPwd, len_onlyNumPwd, len_otherPwd, two_type])\n",
    "#pie_chart_arr = np.array([5, 6872, 1295, 2, 2921])\n",
    "pie_chart_label = [\"Only Uppercase\", \"Only Lowercase\", \"Only Numbers\", \"Other\", \"2+ type\"]\n",
    "explode = (0.2, 0.2, 0.2, 0.2, 0.2)\n",
    "\n",
    "fig1, ax1 = plt.subplots()\n",
    "ax1.pie(pie_chart_arr, explode=explode, labels = pie_chart_label, autopct='%1.1f%%', shadow=True, startangle=90)\n",
    "ax1.axis('equal')\n",
    "\n",
    "plt.show()"
   ]
  },
  {
   "cell_type": "code",
   "execution_count": null,
   "id": "4ed2a165",
   "metadata": {},
   "outputs": [],
   "source": [
    "onlyLowPwd[\"Time_to_crack_in_seconds\"].describe()"
   ]
  },
  {
   "cell_type": "code",
   "execution_count": null,
   "id": "5a7b0bc9",
   "metadata": {
    "scrolled": true
   },
   "outputs": [],
   "source": [
    "(~pw[\"Has_Upper\"]).values.sum()"
   ]
  },
  {
   "cell_type": "code",
   "execution_count": null,
   "id": "efd80b0c",
   "metadata": {
    "scrolled": false
   },
   "outputs": [],
   "source": [
    "pw[\"Has_Upper\"].values.sum()"
   ]
  },
  {
   "cell_type": "code",
   "execution_count": null,
   "id": "b27e55f3",
   "metadata": {},
   "outputs": [],
   "source": [
    "pw[\"Has_Lower\"].values.sum()"
   ]
  },
  {
   "cell_type": "markdown",
   "id": "6aa8c219",
   "metadata": {},
   "source": [
    "<p><a name=\"TTCISbyyear\"></a></p>\n",
    "\n",
    "## Of the unique passwords in the list, has the crack time changed from the past years? [do passwords get easier to crack over time?]"
   ]
  },
  {
   "cell_type": "markdown",
   "id": "66c1ac0e",
   "metadata": {},
   "source": [
    "---------- ******** ----------<br>\n",
    "Year: 2020<br>\n",
    "---------- ******** ----------"
   ]
  },
  {
   "cell_type": "code",
   "execution_count": null,
   "id": "04a42140",
   "metadata": {},
   "outputs": [],
   "source": [
    "# mean TTIS for year 2020\n",
    "df20_mean_TTIS = pw[\"Time_to_crack_in_seconds\"].mean()\n",
    "df20_mean_TTIS"
   ]
  },
  {
   "cell_type": "markdown",
   "id": "199a203f",
   "metadata": {},
   "source": [
    "---------- ******** ----------<br>\n",
    "Year: 2019<br>\n",
    "---------- ******** ----------"
   ]
  },
  {
   "cell_type": "code",
   "execution_count": null,
   "id": "7fc9fe9f",
   "metadata": {
    "scrolled": true
   },
   "outputs": [],
   "source": [
    "#CSV of the year 2019\n",
    "p19 = pd.read_csv('U_password_crack_time_2019.csv')\n",
    "p19"
   ]
  },
  {
   "cell_type": "code",
   "execution_count": null,
   "id": "cd4c8d8d",
   "metadata": {},
   "outputs": [],
   "source": [
    "# mean time to crack for year 2019\n",
    "df19_mean_TTIS = p19[\"Time_to_crack_in_seconds\"].mean()\n",
    "df19_mean_TTIS"
   ]
  },
  {
   "cell_type": "markdown",
   "id": "35a9127c",
   "metadata": {},
   "source": [
    "---------- ******** ----------<br>\n",
    "Year: 2018<br>\n",
    "---------- ******** ----------"
   ]
  },
  {
   "cell_type": "code",
   "execution_count": null,
   "id": "9b759586",
   "metadata": {
    "scrolled": true
   },
   "outputs": [],
   "source": [
    "#CSV of the year 2018\n",
    "p18 = pd.read_csv('U_password_crack_time_2018.csv')\n",
    "p18"
   ]
  },
  {
   "cell_type": "code",
   "execution_count": null,
   "id": "ba2065dd",
   "metadata": {},
   "outputs": [],
   "source": [
    "# mean time to crack for year 2018\n",
    "df18_mean_TTIS = p18[\"Time_to_crack_in_seconds\"].mean()\n",
    "df18_mean_TTIS"
   ]
  },
  {
   "cell_type": "markdown",
   "id": "ba534937",
   "metadata": {},
   "source": [
    "---------- ******** ----------<br>\n",
    "Year: 2017<br>\n",
    "---------- ******** ----------"
   ]
  },
  {
   "cell_type": "code",
   "execution_count": null,
   "id": "33c03631",
   "metadata": {
    "scrolled": true
   },
   "outputs": [],
   "source": [
    "# CSV for year 2017\n",
    "p17 = pd.read_csv('U_password_crack_time_2017.csv')\n",
    "p17"
   ]
  },
  {
   "cell_type": "code",
   "execution_count": null,
   "id": "a0996cd8",
   "metadata": {},
   "outputs": [],
   "source": [
    "# mean time to crack for year 2017\n",
    "df17_mean_TTIS = p17[\"Time_to_crack_in_seconds\"].mean()\n",
    "df17_mean_TTIS"
   ]
  },
  {
   "cell_type": "markdown",
   "id": "79caa28e",
   "metadata": {},
   "source": [
    "---------- ******** ----------<br>\n",
    "Year: 2016<br>\n",
    "---------- ******** ----------"
   ]
  },
  {
   "cell_type": "code",
   "execution_count": null,
   "id": "339470d9",
   "metadata": {},
   "outputs": [],
   "source": [
    "# CSV for year 2016\n",
    "p16 = pd.read_csv('U_password_crack_time_2016.csv')\n",
    "p16"
   ]
  },
  {
   "cell_type": "code",
   "execution_count": null,
   "id": "10f420a1",
   "metadata": {},
   "outputs": [],
   "source": [
    "# mean time to crack for year 2016\n",
    "df16_mean_TTIS = p16[\"Time_to_crack_in_seconds\"].mean()\n",
    "df16_mean_TTIS"
   ]
  },
  {
   "cell_type": "markdown",
   "id": "d1b0e75f",
   "metadata": {},
   "source": [
    "---------- ******** ----------<br>\n",
    "Year: 2015<br>\n",
    "---------- ******** ----------"
   ]
  },
  {
   "cell_type": "code",
   "execution_count": null,
   "id": "538d1171",
   "metadata": {},
   "outputs": [],
   "source": [
    "# CSV for year 2015\n",
    "p15 = pd.read_csv('U_password_crack_time_2015.csv')\n",
    "p15"
   ]
  },
  {
   "cell_type": "code",
   "execution_count": null,
   "id": "a7644373",
   "metadata": {
    "scrolled": true
   },
   "outputs": [],
   "source": [
    "# mean time to crack for year 2015\n",
    "df15_mean_TTIS = p15[\"Time_to_crack_in_seconds\"].mean()\n",
    "df15_mean_TTIS"
   ]
  },
  {
   "cell_type": "code",
   "execution_count": null,
   "id": "2536f66a",
   "metadata": {},
   "outputs": [],
   "source": [
    "3642.84 5472.56"
   ]
  },
  {
   "cell_type": "markdown",
   "id": "e5452832",
   "metadata": {},
   "source": [
    "**Plotting Average Crack Time for the Password Set Over Past 5 Years**"
   ]
  },
  {
   "cell_type": "markdown",
   "id": "1b77e5e8",
   "metadata": {},
   "source": [
    "Seems to be getting faster to crack the password every year"
   ]
  },
  {
   "cell_type": "code",
   "execution_count": null,
   "id": "048b65f9",
   "metadata": {
    "scrolled": true
   },
   "outputs": [],
   "source": [
    "#Plotting to see TTIS trend over time\n",
    "x = [2015,2016,2017,2018,2019,2020]\n",
    "y =[df15_mean_TTIS, df16_mean_TTIS, df17_mean_TTIS, df18_mean_TTIS, df19_mean_TTIS, df20_mean_TTIS]\n",
    "plt.plot(x,y)"
   ]
  },
  {
   "cell_type": "code",
   "execution_count": null,
   "id": "0322882d",
   "metadata": {},
   "outputs": [],
   "source": [
    "#Percentage change from 2015 to 2020\n",
    "percent_15to20 = ((df20_mean_TTIS - df15_mean_TTIS) / df20_mean_TTIS) * 100\n",
    "percent_15to20"
   ]
  },
  {
   "cell_type": "code",
   "execution_count": null,
   "id": "b7ff0d8c",
   "metadata": {},
   "outputs": [],
   "source": [
    "x = [\"2015\", \"2020\"]\n",
    "y = [df15_mean_TTIS, df20_mean_TTIS]\n",
    "plt.figure(figsize=(10, 7))\n",
    "plt.bar(x, y, color=['red', 'green'])\n",
    "\n",
    "plt.xlabel('Years')\n",
    "plt.ylabel('Mean Time to crack in seconds')\n",
    "\n",
    "# Have to log otherwise PC1 is not shown\n"
   ]
  },
  {
   "cell_type": "markdown",
   "id": "9d9a8f2f",
   "metadata": {},
   "source": [
    "# Is there a change in average length of password by years?"
   ]
  },
  {
   "cell_type": "code",
   "execution_count": null,
   "id": "f1060453",
   "metadata": {
    "scrolled": true
   },
   "outputs": [],
   "source": [
    "pwd2019 = pd.read_csv(\"2019 - 200 passwords.csv\")\n",
    "pwd2019"
   ]
  },
  {
   "cell_type": "code",
   "execution_count": null,
   "id": "7ad5616e",
   "metadata": {},
   "outputs": [],
   "source": [
    "#create a new column for password length\n",
    "pwd2019[\"Password_Length\"] = pwd2019[\"Password\"].apply(len)\n",
    "pwd2019"
   ]
  },
  {
   "cell_type": "code",
   "execution_count": null,
   "id": "19e89343",
   "metadata": {
    "scrolled": true
   },
   "outputs": [],
   "source": [
    "pwd2019[\"Password_Length\"].mean()"
   ]
  },
  {
   "cell_type": "markdown",
   "id": "3f966775",
   "metadata": {},
   "source": [
    "# conclusion"
   ]
  },
  {
   "cell_type": "markdown",
   "id": "202f9448",
   "metadata": {},
   "source": [
    "See how the average password length changes over time\n",
    "\n",
    "See if there is any correlation between top trending words/hashtags and passwords"
   ]
  },
  {
   "cell_type": "code",
   "execution_count": null,
   "id": "17fd58dd",
   "metadata": {},
   "outputs": [],
   "source": []
  }
 ],
 "metadata": {
  "kernelspec": {
   "display_name": "Python 3 (ipykernel)",
   "language": "python",
   "name": "python3"
  },
  "language_info": {
   "codemirror_mode": {
    "name": "ipython",
    "version": 3
   },
   "file_extension": ".py",
   "mimetype": "text/x-python",
   "name": "python",
   "nbconvert_exporter": "python",
   "pygments_lexer": "ipython3",
   "version": "3.9.7"
  }
 },
 "nbformat": 4,
 "nbformat_minor": 5
}
